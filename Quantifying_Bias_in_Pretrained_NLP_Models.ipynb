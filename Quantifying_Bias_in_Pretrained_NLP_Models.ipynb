{
  "nbformat": 4,
  "nbformat_minor": 0,
  "metadata": {
    "colab": {
      "provenance": []
    },
    "kernelspec": {
      "name": "python3",
      "display_name": "Python 3"
    },
    "language_info": {
      "name": "python"
    }
  },
  "cells": [
    {
      "cell_type": "markdown",
      "source": [
        "### **Dataset Download and Extraction**\n",
        "##### Description: This cell downloads the required datasets (embeddings, IMDB data, and evaluation datasets) from a Google Drive link and extracts them into a Datasets/ directory in Colab’s filesystem. This step is essential for all subsequent experiments and should be run first if the datasets aren’t already present."
      ],
      "metadata": {
        "id": "HMLR3I0UUR3q"
      }
    },
    {
      "cell_type": "code",
      "source": [
        "import gdown\n",
        "gdown.download('https://drive.google.com/uc?id=1s0ibigb7TpJy33j_f5OoOQKUyRrghPXv', 'datasets.zip', quiet=False)\n",
        "!unzip datasets.zip -d Datasets/"
      ],
      "metadata": {
        "colab": {
          "base_uri": "https://localhost:8080/"
        },
        "id": "XkVSa6YEHB4Z",
        "outputId": "d0750044-f105-4f1f-8d49-b82da499af78"
      },
      "execution_count": null,
      "outputs": [
        {
          "output_type": "stream",
          "name": "stdout",
          "text": [
            "Access denied with the following error:\n",
            "Archive:  datasets.zip\n",
            "replace Datasets/IMDB_Dataset.csv? [y]es, [n]o, [A]ll, [N]one, [r]ename: "
          ]
        },
        {
          "output_type": "stream",
          "name": "stderr",
          "text": [
            "\n",
            " \tCannot retrieve the public link of the file. You may need to change\n",
            "\tthe permission to 'Anyone with the link', or have had many accesses. \n",
            "\n",
            "You may still be able to access the file from the browser:\n",
            "\n",
            "\t https://drive.google.com/uc?id=1s0ibigb7TpJy33j_f5OoOQKUyRrghPXv \n",
            "\n"
          ]
        }
      ]
    },
    {
      "cell_type": "markdown",
      "source": [
        "### **Custom Modules Upload and Extraction**\n",
        "##### Description: This cell extracts a pre-zipped archive (folders.zip) containing the custom Python modules (Classes/, Evaluation/, and Utils/) into Colab’s root directory (/content/). These modules are necessary for the debiasing and evaluation functions used in the experiments. Ensure folders.zip is uploaded to Colab before running this cell."
      ],
      "metadata": {
        "id": "pBwhaCEZUtXa"
      }
    },
    {
      "cell_type": "code",
      "source": [
        "!unzip /content/folders.zip -d /content/"
      ],
      "metadata": {
        "colab": {
          "base_uri": "https://localhost:8080/"
        },
        "id": "4vqJUFwVMl5n",
        "outputId": "7fb644c4-1da5-4a39-ca5f-f09c38268212"
      },
      "execution_count": null,
      "outputs": [
        {
          "output_type": "stream",
          "name": "stdout",
          "text": [
            "Archive:  /content/folders.zip\n",
            "replace /content/Classes/embedding.py? [y]es, [n]o, [A]ll, [N]one, [r]ename: y\n",
            "  inflating: /content/Classes/embedding.py  \n",
            "replace /content/Classes/weat.py? [y]es, [n]o, [A]ll, [N]one, [r]ename: y\n",
            "  inflating: /content/Classes/weat.py  \n",
            "replace /content/Evaluation/code_evaluation.py? [y]es, [n]o, [A]ll, [N]one, [r]ename: y\n",
            "  inflating: /content/Evaluation/code_evaluation.py  \n",
            "replace /content/Evaluation/sentiment_analysis.py? [y]es, [n]o, [A]ll, [N]one, [r]ename: y\n",
            "  inflating: /content/Evaluation/sentiment_analysis.py  \n",
            "replace /content/Evaluation/weat_analysis.py? [y]es, [n]o, [A]ll, [N]one, [r]ename: y\n",
            "  inflating: /content/Evaluation/weat_analysis.py  \n",
            "replace /content/Utils/methods.py? [y]es, [n]o, [A]ll, [N]one, [r]ename: y\n",
            "  inflating: /content/Utils/methods.py  \n",
            "replace /content/Utils/sets.py? [y]es, [n]o, [A]ll, [N]one, [r]ename: y\n",
            "  inflating: /content/Utils/sets.py  \n"
          ]
        }
      ]
    },
    {
      "cell_type": "markdown",
      "source": [
        "###**Dependency Installation**\n",
        "#####Description: This cell installs specific versions of Python libraries required for the project, ensuring compatibility with the code and Colab’s Python 3.10+ environment. It also downloads NLTK’s stopwords, which are used in dataset preprocessing. These libraries support numerical operations, machine learning, visualization, and text processing."
      ],
      "metadata": {
        "id": "cbXDvE1pU_pL"
      }
    },
    {
      "cell_type": "code",
      "source": [
        "!pip install numpy==1.23.5 pandas==1.5.3 scikit-learn==1.2.2 tensorflow==2.12.0 gensim==4.3.2 seaborn==0.12.2 matplotlib==3.7.1 scipy==1.10.1 nltk==3.8.1 gdown==4.7.1\n",
        "import nltk\n",
        "nltk.download('stopwords')"
      ],
      "metadata": {
        "colab": {
          "base_uri": "https://localhost:8080/"
        },
        "id": "VFEOMqC6Rk1a",
        "outputId": "833ccb6a-6a2b-4c1b-8bf2-907587590730"
      },
      "execution_count": null,
      "outputs": [
        {
          "output_type": "stream",
          "name": "stdout",
          "text": [
            "Requirement already satisfied: numpy==1.23.5 in /usr/local/lib/python3.11/dist-packages (1.23.5)\n",
            "Requirement already satisfied: pandas==1.5.3 in /usr/local/lib/python3.11/dist-packages (1.5.3)\n",
            "Requirement already satisfied: scikit-learn==1.2.2 in /usr/local/lib/python3.11/dist-packages (1.2.2)\n",
            "Requirement already satisfied: tensorflow==2.12.0 in /usr/local/lib/python3.11/dist-packages (2.12.0)\n",
            "Requirement already satisfied: gensim==4.3.2 in /usr/local/lib/python3.11/dist-packages (4.3.2)\n",
            "Requirement already satisfied: seaborn==0.12.2 in /usr/local/lib/python3.11/dist-packages (0.12.2)\n",
            "Requirement already satisfied: matplotlib==3.7.1 in /usr/local/lib/python3.11/dist-packages (3.7.1)\n",
            "Requirement already satisfied: scipy==1.10.1 in /usr/local/lib/python3.11/dist-packages (1.10.1)\n",
            "Requirement already satisfied: nltk==3.8.1 in /usr/local/lib/python3.11/dist-packages (3.8.1)\n",
            "Requirement already satisfied: gdown==4.7.1 in /usr/local/lib/python3.11/dist-packages (4.7.1)\n",
            "Requirement already satisfied: python-dateutil>=2.8.1 in /usr/local/lib/python3.11/dist-packages (from pandas==1.5.3) (2.8.2)\n",
            "Requirement already satisfied: pytz>=2020.1 in /usr/local/lib/python3.11/dist-packages (from pandas==1.5.3) (2025.1)\n",
            "Requirement already satisfied: joblib>=1.1.1 in /usr/local/lib/python3.11/dist-packages (from scikit-learn==1.2.2) (1.4.2)\n",
            "Requirement already satisfied: threadpoolctl>=2.0.0 in /usr/local/lib/python3.11/dist-packages (from scikit-learn==1.2.2) (3.6.0)\n",
            "Requirement already satisfied: absl-py>=1.0.0 in /usr/local/lib/python3.11/dist-packages (from tensorflow==2.12.0) (1.4.0)\n",
            "Requirement already satisfied: astunparse>=1.6.0 in /usr/local/lib/python3.11/dist-packages (from tensorflow==2.12.0) (1.6.3)\n",
            "Requirement already satisfied: flatbuffers>=2.0 in /usr/local/lib/python3.11/dist-packages (from tensorflow==2.12.0) (25.2.10)\n",
            "Requirement already satisfied: gast<=0.4.0,>=0.2.1 in /usr/local/lib/python3.11/dist-packages (from tensorflow==2.12.0) (0.4.0)\n",
            "Requirement already satisfied: google-pasta>=0.1.1 in /usr/local/lib/python3.11/dist-packages (from tensorflow==2.12.0) (0.2.0)\n",
            "Requirement already satisfied: grpcio<2.0,>=1.24.3 in /usr/local/lib/python3.11/dist-packages (from tensorflow==2.12.0) (1.71.0)\n",
            "Requirement already satisfied: h5py>=2.9.0 in /usr/local/lib/python3.11/dist-packages (from tensorflow==2.12.0) (3.13.0)\n",
            "Requirement already satisfied: jax>=0.3.15 in /usr/local/lib/python3.11/dist-packages (from tensorflow==2.12.0) (0.4.30)\n",
            "Requirement already satisfied: keras<2.13,>=2.12.0 in /usr/local/lib/python3.11/dist-packages (from tensorflow==2.12.0) (2.12.0)\n",
            "Requirement already satisfied: libclang>=13.0.0 in /usr/local/lib/python3.11/dist-packages (from tensorflow==2.12.0) (18.1.1)\n",
            "Requirement already satisfied: opt-einsum>=2.3.2 in /usr/local/lib/python3.11/dist-packages (from tensorflow==2.12.0) (3.4.0)\n",
            "Requirement already satisfied: packaging in /usr/local/lib/python3.11/dist-packages (from tensorflow==2.12.0) (24.2)\n",
            "Requirement already satisfied: protobuf!=4.21.0,!=4.21.1,!=4.21.2,!=4.21.3,!=4.21.4,!=4.21.5,<5.0.0dev,>=3.20.3 in /usr/local/lib/python3.11/dist-packages (from tensorflow==2.12.0) (4.25.6)\n",
            "Requirement already satisfied: setuptools in /usr/local/lib/python3.11/dist-packages (from tensorflow==2.12.0) (75.1.0)\n",
            "Requirement already satisfied: six>=1.12.0 in /usr/local/lib/python3.11/dist-packages (from tensorflow==2.12.0) (1.17.0)\n",
            "Requirement already satisfied: tensorboard<2.13,>=2.12 in /usr/local/lib/python3.11/dist-packages (from tensorflow==2.12.0) (2.12.3)\n",
            "Requirement already satisfied: tensorflow-estimator<2.13,>=2.12.0 in /usr/local/lib/python3.11/dist-packages (from tensorflow==2.12.0) (2.12.0)\n",
            "Requirement already satisfied: termcolor>=1.1.0 in /usr/local/lib/python3.11/dist-packages (from tensorflow==2.12.0) (2.5.0)\n",
            "Requirement already satisfied: typing-extensions>=3.6.6 in /usr/local/lib/python3.11/dist-packages (from tensorflow==2.12.0) (4.12.2)\n",
            "Requirement already satisfied: wrapt<1.15,>=1.11.0 in /usr/local/lib/python3.11/dist-packages (from tensorflow==2.12.0) (1.14.1)\n",
            "Requirement already satisfied: tensorflow-io-gcs-filesystem>=0.23.1 in /usr/local/lib/python3.11/dist-packages (from tensorflow==2.12.0) (0.37.1)\n",
            "Requirement already satisfied: smart-open>=1.8.1 in /usr/local/lib/python3.11/dist-packages (from gensim==4.3.2) (7.1.0)\n",
            "Requirement already satisfied: contourpy>=1.0.1 in /usr/local/lib/python3.11/dist-packages (from matplotlib==3.7.1) (1.3.1)\n",
            "Requirement already satisfied: cycler>=0.10 in /usr/local/lib/python3.11/dist-packages (from matplotlib==3.7.1) (0.12.1)\n",
            "Requirement already satisfied: fonttools>=4.22.0 in /usr/local/lib/python3.11/dist-packages (from matplotlib==3.7.1) (4.56.0)\n",
            "Requirement already satisfied: kiwisolver>=1.0.1 in /usr/local/lib/python3.11/dist-packages (from matplotlib==3.7.1) (1.4.8)\n",
            "Requirement already satisfied: pillow>=6.2.0 in /usr/local/lib/python3.11/dist-packages (from matplotlib==3.7.1) (11.1.0)\n",
            "Requirement already satisfied: pyparsing>=2.3.1 in /usr/local/lib/python3.11/dist-packages (from matplotlib==3.7.1) (3.2.1)\n",
            "Requirement already satisfied: click in /usr/local/lib/python3.11/dist-packages (from nltk==3.8.1) (8.1.8)\n",
            "Requirement already satisfied: regex>=2021.8.3 in /usr/local/lib/python3.11/dist-packages (from nltk==3.8.1) (2024.11.6)\n",
            "Requirement already satisfied: tqdm in /usr/local/lib/python3.11/dist-packages (from nltk==3.8.1) (4.67.1)\n",
            "Requirement already satisfied: filelock in /usr/local/lib/python3.11/dist-packages (from gdown==4.7.1) (3.18.0)\n",
            "Requirement already satisfied: requests[socks] in /usr/local/lib/python3.11/dist-packages (from gdown==4.7.1) (2.32.3)\n",
            "Requirement already satisfied: beautifulsoup4 in /usr/local/lib/python3.11/dist-packages (from gdown==4.7.1) (4.13.3)\n",
            "Requirement already satisfied: wheel<1.0,>=0.23.0 in /usr/local/lib/python3.11/dist-packages (from astunparse>=1.6.0->tensorflow==2.12.0) (0.45.1)\n",
            "Requirement already satisfied: jaxlib<=0.4.30,>=0.4.27 in /usr/local/lib/python3.11/dist-packages (from jax>=0.3.15->tensorflow==2.12.0) (0.4.30)\n",
            "Requirement already satisfied: ml-dtypes>=0.2.0 in /usr/local/lib/python3.11/dist-packages (from jax>=0.3.15->tensorflow==2.12.0) (0.4.1)\n",
            "Requirement already satisfied: google-auth<3,>=1.6.3 in /usr/local/lib/python3.11/dist-packages (from tensorboard<2.13,>=2.12->tensorflow==2.12.0) (2.38.0)\n",
            "Requirement already satisfied: google-auth-oauthlib<1.1,>=0.5 in /usr/local/lib/python3.11/dist-packages (from tensorboard<2.13,>=2.12->tensorflow==2.12.0) (1.0.0)\n",
            "Requirement already satisfied: markdown>=2.6.8 in /usr/local/lib/python3.11/dist-packages (from tensorboard<2.13,>=2.12->tensorflow==2.12.0) (3.7)\n",
            "Requirement already satisfied: tensorboard-data-server<0.8.0,>=0.7.0 in /usr/local/lib/python3.11/dist-packages (from tensorboard<2.13,>=2.12->tensorflow==2.12.0) (0.7.2)\n",
            "Requirement already satisfied: werkzeug>=1.0.1 in /usr/local/lib/python3.11/dist-packages (from tensorboard<2.13,>=2.12->tensorflow==2.12.0) (3.1.3)\n",
            "Requirement already satisfied: soupsieve>1.2 in /usr/local/lib/python3.11/dist-packages (from beautifulsoup4->gdown==4.7.1) (2.6)\n",
            "Requirement already satisfied: charset-normalizer<4,>=2 in /usr/local/lib/python3.11/dist-packages (from requests[socks]->gdown==4.7.1) (3.4.1)\n",
            "Requirement already satisfied: idna<4,>=2.5 in /usr/local/lib/python3.11/dist-packages (from requests[socks]->gdown==4.7.1) (3.10)\n",
            "Requirement already satisfied: urllib3<3,>=1.21.1 in /usr/local/lib/python3.11/dist-packages (from requests[socks]->gdown==4.7.1) (2.3.0)\n",
            "Requirement already satisfied: certifi>=2017.4.17 in /usr/local/lib/python3.11/dist-packages (from requests[socks]->gdown==4.7.1) (2025.1.31)\n",
            "Requirement already satisfied: PySocks!=1.5.7,>=1.5.6 in /usr/local/lib/python3.11/dist-packages (from requests[socks]->gdown==4.7.1) (1.7.1)\n",
            "Requirement already satisfied: cachetools<6.0,>=2.0.0 in /usr/local/lib/python3.11/dist-packages (from google-auth<3,>=1.6.3->tensorboard<2.13,>=2.12->tensorflow==2.12.0) (5.5.2)\n",
            "Requirement already satisfied: pyasn1-modules>=0.2.1 in /usr/local/lib/python3.11/dist-packages (from google-auth<3,>=1.6.3->tensorboard<2.13,>=2.12->tensorflow==2.12.0) (0.4.1)\n",
            "Requirement already satisfied: rsa<5,>=3.1.4 in /usr/local/lib/python3.11/dist-packages (from google-auth<3,>=1.6.3->tensorboard<2.13,>=2.12->tensorflow==2.12.0) (4.9)\n",
            "Requirement already satisfied: requests-oauthlib>=0.7.0 in /usr/local/lib/python3.11/dist-packages (from google-auth-oauthlib<1.1,>=0.5->tensorboard<2.13,>=2.12->tensorflow==2.12.0) (2.0.0)\n",
            "Requirement already satisfied: MarkupSafe>=2.1.1 in /usr/local/lib/python3.11/dist-packages (from werkzeug>=1.0.1->tensorboard<2.13,>=2.12->tensorflow==2.12.0) (3.0.2)\n",
            "Requirement already satisfied: pyasn1<0.7.0,>=0.4.6 in /usr/local/lib/python3.11/dist-packages (from pyasn1-modules>=0.2.1->google-auth<3,>=1.6.3->tensorboard<2.13,>=2.12->tensorflow==2.12.0) (0.6.1)\n",
            "Requirement already satisfied: oauthlib>=3.0.0 in /usr/local/lib/python3.11/dist-packages (from requests-oauthlib>=0.7.0->google-auth-oauthlib<1.1,>=0.5->tensorboard<2.13,>=2.12->tensorflow==2.12.0) (3.2.2)\n"
          ]
        },
        {
          "output_type": "stream",
          "name": "stderr",
          "text": [
            "[nltk_data] Downloading package stopwords to /root/nltk_data...\n",
            "[nltk_data]   Package stopwords is already up-to-date!\n"
          ]
        },
        {
          "output_type": "execute_result",
          "data": {
            "text/plain": [
              "True"
            ]
          },
          "metadata": {},
          "execution_count": 5
        }
      ]
    },
    {
      "cell_type": "markdown",
      "source": [
        "###**Additional Dependency Fix**\n",
        "#####Description: This cell installs the keras_preprocessing package to resolve a compatibility issue with older import statements in Utils/methods.py. This is a temporary fix to support legacy Keras utilities until the code is updated to use TensorFlow’s built-in tf.keras.preprocessing.\n"
      ],
      "metadata": {
        "id": "84xjOMpYVKlN"
      }
    },
    {
      "cell_type": "code",
      "source": [
        "!pip install keras_preprocessing"
      ],
      "metadata": {
        "colab": {
          "base_uri": "https://localhost:8080/"
        },
        "id": "3-EY5U3LTqYy",
        "outputId": "629538a3-d7c7-4792-9b3c-18fa50a20c98"
      },
      "execution_count": null,
      "outputs": [
        {
          "output_type": "stream",
          "name": "stdout",
          "text": [
            "Requirement already satisfied: keras_preprocessing in /usr/local/lib/python3.11/dist-packages (1.1.2)\n",
            "Requirement already satisfied: numpy>=1.9.1 in /usr/local/lib/python3.11/dist-packages (from keras_preprocessing) (1.23.5)\n",
            "Requirement already satisfied: six>=1.9.0 in /usr/local/lib/python3.11/dist-packages (from keras_preprocessing) (1.17.0)\n"
          ]
        }
      ]
    },
    {
      "cell_type": "markdown",
      "source": [
        "###**Initial Setup and Imports**\n",
        "#####Description: This cell imports necessary custom modules and standard libraries for the embedding analysis, sets up visualization styles using Seaborn, and prepares the environment. The custom modules (Classes.embedding, etc.) provide the core functionality for debiasing and evaluation tasks."
      ],
      "metadata": {
        "id": "BFrCi1YjVcyq"
      }
    },
    {
      "cell_type": "code",
      "execution_count": null,
      "metadata": {
        "id": "QH3O5vg2lKJr"
      },
      "outputs": [],
      "source": [
        "from Classes.embedding import *\n",
        "from Evaluation.code_evaluation import *\n",
        "from Evaluation.sentiment_analysis import *\n",
        "from Utils.methods import *\n",
        "\n",
        "import sys\n",
        "import seaborn as sns\n",
        "from matplotlib import pyplot as plt\n",
        "\n",
        "sns.set_style(\"whitegrid\")\n",
        "# Using TensorFlow backend (this is a comment from your output, not executable code)"
      ]
    },
    {
      "cell_type": "markdown",
      "source": [
        "###**Dataset Download and Preparation**\n",
        "#####Description: This cell verifies if the datasets (embeddings, stopwords, etc.) are already present in the Datasets/ directory. If not, it downloads NLTK stopwords and the dataset archive from Google Drive, then extracts it into Datasets/. Since the datasets were previously downloaded and extracted into /content/Datasets/, this cell will skip the download step unless the directory is missing (e.g., after a runtime reset). Run this to ensure the datasets are available."
      ],
      "metadata": {
        "id": "npA9xT05VtCP"
      }
    },
    {
      "cell_type": "code",
      "source": [
        "import os.path\n",
        "import nltk\n",
        "import gdown\n",
        "\n",
        "if os.path.isdir('/content/Datasets/'):\n",
        "    print(\"Datasets directory already exists, skipping download.\")\n",
        "else:\n",
        "    nltk.download('stopwords')\n",
        "    gdown.download('https://drive.google.com/uc?id=1s0ibigb7TpJy33j_f5OoOQKUyRrghPXv', 'datasets.zip', quiet=False)\n",
        "    !unzip datasets.zip -d Datasets/ && rm datasets.zip"
      ],
      "metadata": {
        "colab": {
          "base_uri": "https://localhost:8080/"
        },
        "id": "qLeIKUl9WoW9",
        "outputId": "78b6ebeb-0857-4213-f868-8c176c8e558f"
      },
      "execution_count": null,
      "outputs": [
        {
          "output_type": "stream",
          "name": "stdout",
          "text": [
            "Datasets directory already exists, skipping download.\n"
          ]
        }
      ]
    },
    {
      "cell_type": "markdown",
      "source": [
        "###**Embedding Selection and Initial WEAT Analysis**\n",
        "#####Description: This cell selects an embedding type (e.g., Word2Vec) from a list, loads it, and performs an initial WEAT (Word Embedding Association Test) analysis to measure bias across gender, race, and religion dimensions."
      ],
      "metadata": {
        "id": "eGM7IaITXcBP"
      }
    },
    {
      "cell_type": "code",
      "source": [
        "emb_names = ['word2vec', 'glove', 'fasttext']\n",
        "emb_name = emb_names[0]  # Using Word2Vec for this example\n",
        "embedding = Word_Embedding(f'Datasets/embeddings/{emb_name}.txt')\n",
        "\n",
        "\n",
        "attribute_sets, attribute_sets_pairs, targets_sets = get_sets(embedding.words, target_set_reduction=True)\n",
        "sets = union_of_dictionaries(attribute_sets, targets_sets)\n",
        "subspace_words = get_def_seeds(sets)\n",
        "bias_combinations = get_combinations(sets, attribute_sets_pairs)\n",
        "bias_weat, bias_levels_d, d_values, p_values, m_before = weat_analysis(embedding, bias_combinations, sets, steps=1000)\n",
        "target_at_dict = get_SW_dict(bias_weat, 0.7)"
      ],
      "metadata": {
        "colab": {
          "base_uri": "https://localhost:8080/"
        },
        "id": "7ydxysybXT9g",
        "outputId": "b9bbf4c5-e3dc-4c73-b48a-b0660a9f0079"
      },
      "execution_count": null,
      "outputs": [
        {
          "output_type": "stream",
          "name": "stdout",
          "text": [
            "Regular embedding successfully read. Shape: (76078, 300)\n"
          ]
        }
      ]
    },
    {
      "cell_type": "markdown",
      "source": [
        "###**HardWEAT Debiasing**\n",
        "#####Description: This cell applies the HardWEAT debiasing method to the original embedding, removing bias by neutralizing and equidistancing words, then re-evaluates the bias using WEAT analysis."
      ],
      "metadata": {
        "id": "cLZ-K7FgXsyT"
      }
    },
    {
      "cell_type": "code",
      "source": [
        "hard_debiased = copy.deepcopy(embedding)\n",
        "hard_debiased.hard_weat(bias_levels_d, bias_combinations, subspace_words, sets, neighbors_threshold=0.5)\n",
        "hard_debias_weat, hard_debias_levels_d, _, _, _ = weat_analysis(hard_debiased, bias_combinations, sets, steps=1000)\n",
        "\n"
      ],
      "metadata": {
        "colab": {
          "base_uri": "https://localhost:8080/"
        },
        "id": "mU3T8KqmXisn",
        "outputId": "5d1d983a-d512-4a6e-8b8f-bbacfe8407e8"
      },
      "execution_count": null,
      "outputs": [
        {
          "output_type": "stream",
          "name": "stdout",
          "text": [
            "Start of neutralization, there is total of 75630 neutral words out of total 76078 words.\n",
            "Neutralization done in 1.026s, starting with neighbor thresholding and equidistancing...\n",
            "Finished with all gender subcategories\n",
            "Finished with all race subcategories\n",
            "Finished with all religion subcategories\n",
            "Equidistancing done in 19.049s.\n"
          ]
        }
      ]
    },
    {
      "cell_type": "markdown",
      "source": [
        "###**SoftWEAT Debiasing**\n",
        "#####Description: This cell applies the SoftWEAT debiasing method with a specified lambda parameter, reducing bias more gradually, then re-evaluates the debiased embedding using WEAT analysis."
      ],
      "metadata": {
        "id": "LjRU963oY9YH"
      }
    },
    {
      "cell_type": "code",
      "source": [
        "soft_debiased = copy.deepcopy(embedding)\n",
        "lambda_parameter = 0.5\n",
        "soft_debiased.soft_weat(sets, target_at_dict, bias_combinations, l=lambda_parameter, nullspace_iterations=3)\n",
        "soft_debias_weat, soft_debias_levels_d, _, _, m_after = weat_analysis(soft_debiased, bias_combinations, sets, steps=1000)\n",
        "\n"
      ],
      "metadata": {
        "colab": {
          "base_uri": "https://localhost:8080/"
        },
        "id": "MyJMWlj0Y83i",
        "outputId": "8587bd4c-1b85-4adc-c7f7-4c4f0eeada98"
      },
      "execution_count": null,
      "outputs": [
        {
          "output_type": "stream",
          "name": "stdout",
          "text": [
            "Subclass male_terms finished.\n",
            "Subclass female_terms finished.\n",
            "Subclass black_names finished.\n",
            "Subclass white_names finished.\n",
            "Subclass islam_words finished.\n",
            "Subclass atheism_words finished.\n",
            "Subclass christianity_words finished.\n"
          ]
        }
      ]
    },
    {
      "cell_type": "markdown",
      "source": [
        "###**Bias Level Comparison**\n",
        "#####Description: This cell prints the bias levels before and after applying SoftWEAT and HardWEAT debiasing, showing the reduction in bias across gender, race, and religion."
      ],
      "metadata": {
        "id": "eZRryZVvZRau"
      }
    },
    {
      "cell_type": "code",
      "source": [
        "print(f'Bias levels before debiasing: {bias_levels_d}.')\n",
        "print(f'Bias levels after SoftWEAT: {soft_debias_levels_d}.')\n",
        "print(f'Bias levels after HardWEAT: {hard_debias_levels_d}.')\n",
        "\n"
      ],
      "metadata": {
        "colab": {
          "base_uri": "https://localhost:8080/"
        },
        "id": "bGEj43ZrZivv",
        "outputId": "ed2d835a-413a-40eb-ab29-0d137c6f6959"
      },
      "execution_count": null,
      "outputs": [
        {
          "output_type": "stream",
          "name": "stdout",
          "text": [
            "Bias levels before debiasing: {'gender': 0.72, 'race': 0.53, 'religion': 0.48}.\n",
            "Bias levels after SoftWEAT: {'gender': 0.45, 'race': 0.25, 'religion': 0.22}.\n",
            "Bias levels after HardWEAT: {'gender': 0.0, 'race': 0.0, 'religion': 0.0}.\n"
          ]
        }
      ]
    },
    {
      "cell_type": "markdown",
      "source": [
        "###**Mikolov and Rank Task Evaluation**\n",
        "#####Description: This cell evaluates the original and debiased embeddings using Mikolov analogy tasks and rank-based similarity tasks, comparing performance across different embedding types."
      ],
      "metadata": {
        "id": "KMHgAJvVZ1Ig"
      }
    },
    {
      "cell_type": "code",
      "source": [
        "embeddings_dict = {'original': embedding, 'hardweat': hard_debiased, 'softweat': soft_debiased}\n",
        "rank_results, mikolov_results = {}, {}\n",
        "\n",
        "for emb_type, emb_obj in embeddings_dict.items():\n",
        "    rank_results[emb_type] = rank_evaluation(emb_obj)\n",
        "    mikolov_results[emb_type] = mikolov_evaluation(emb_to_gensim(emb_obj))\n",
        "    print(f'Done {emb_type}.')"
      ],
      "metadata": {
        "colab": {
          "base_uri": "https://localhost:8080/"
        },
        "id": "DNao8B02Z0jc",
        "outputId": "2a1cec2d-071e-430f-aa36-5d28dcbbfe89"
      },
      "execution_count": null,
      "outputs": [
        {
          "output_type": "stream",
          "name": "stdout",
          "text": [
            "Done original.\n",
            "Done hardweat.\n",
            "Done softweat.\n"
          ]
        }
      ]
    },
    {
      "cell_type": "markdown",
      "source": [
        "###**Formatting Evaluation Results for Display**\n",
        "#####Description: This cell organizes the rank and Mikolov evaluation results into lists suitable for creating pandas DataFrames, making it easier to visualize and compare the results."
      ],
      "metadata": {
        "id": "nrrAelP1vgPt"
      }
    },
    {
      "cell_type": "code",
      "source": [
        "rank_results_for_pd = []\n",
        "for rank_dataset in list(rank_results['original'].keys()):\n",
        "    rank_results_for_pd.append([rank_dataset, rank_results['original'][rank_dataset],\n",
        "                                rank_results['softweat'][rank_dataset], rank_results['hardweat'][rank_dataset]])\n",
        "\n",
        "mikolov_res_for_pd = []\n",
        "for mikolov_part in list(mikolov_results['original'].keys()):\n",
        "    mikolov_res_for_pd.append([mikolov_part, mikolov_results['original'][mikolov_part],\n",
        "                               mikolov_results['softweat'][mikolov_part], mikolov_results['hardweat'][mikolov_part]])"
      ],
      "metadata": {
        "id": "TJYN_ePlvj-I"
      },
      "execution_count": null,
      "outputs": []
    },
    {
      "cell_type": "markdown",
      "source": [
        "###**Display Rank Evaluation Results**\n",
        "#####Description: This cell uses pandas to create and display a DataFrame showing the rank evaluation results for the original, SoftWEAT, and HardWEAT embeddings."
      ],
      "metadata": {
        "id": "b4nNp4kkvr-x"
      }
    },
    {
      "cell_type": "code",
      "source": [
        "import pandas as pd\n",
        "\n",
        "pd.DataFrame(rank_results_for_pd, columns=['Key', 'Original', 'SoftWEAT', 'HardWEAT'])"
      ],
      "metadata": {
        "colab": {
          "base_uri": "https://localhost:8080/",
          "height": 269
        },
        "id": "3iGADhAUvwV7",
        "outputId": "3e179ee7-fd86-4cdc-b9d1-573357522843"
      },
      "execution_count": null,
      "outputs": [
        {
          "output_type": "execute_result",
          "data": {
            "text/plain": [
              "       Key  Original  SoftWEAT  HardWEAT\n",
              "0       WS     69.33     69.58     64.89\n",
              "1     RG65     74.94     75.13     63.40\n",
              "2       RW     55.78     55.76     55.73\n",
              "3      MEN     77.07     76.92     75.56\n",
              "4    MTurk     67.14     66.53     66.48\n",
              "5   SimLex     44.27     44.31     44.24\n",
              "6  SimVerb     36.54     36.50     36.51"
            ],
            "text/html": [
              "\n",
              "  <div id=\"df-78869474-4422-4998-b607-a5ae686df8ef\" class=\"colab-df-container\">\n",
              "    <div>\n",
              "<style scoped>\n",
              "    .dataframe tbody tr th:only-of-type {\n",
              "        vertical-align: middle;\n",
              "    }\n",
              "\n",
              "    .dataframe tbody tr th {\n",
              "        vertical-align: top;\n",
              "    }\n",
              "\n",
              "    .dataframe thead th {\n",
              "        text-align: right;\n",
              "    }\n",
              "</style>\n",
              "<table border=\"1\" class=\"dataframe\">\n",
              "  <thead>\n",
              "    <tr style=\"text-align: right;\">\n",
              "      <th></th>\n",
              "      <th>Key</th>\n",
              "      <th>Original</th>\n",
              "      <th>SoftWEAT</th>\n",
              "      <th>HardWEAT</th>\n",
              "    </tr>\n",
              "  </thead>\n",
              "  <tbody>\n",
              "    <tr>\n",
              "      <th>0</th>\n",
              "      <td>WS</td>\n",
              "      <td>69.33</td>\n",
              "      <td>69.58</td>\n",
              "      <td>64.89</td>\n",
              "    </tr>\n",
              "    <tr>\n",
              "      <th>1</th>\n",
              "      <td>RG65</td>\n",
              "      <td>74.94</td>\n",
              "      <td>75.13</td>\n",
              "      <td>63.40</td>\n",
              "    </tr>\n",
              "    <tr>\n",
              "      <th>2</th>\n",
              "      <td>RW</td>\n",
              "      <td>55.78</td>\n",
              "      <td>55.76</td>\n",
              "      <td>55.73</td>\n",
              "    </tr>\n",
              "    <tr>\n",
              "      <th>3</th>\n",
              "      <td>MEN</td>\n",
              "      <td>77.07</td>\n",
              "      <td>76.92</td>\n",
              "      <td>75.56</td>\n",
              "    </tr>\n",
              "    <tr>\n",
              "      <th>4</th>\n",
              "      <td>MTurk</td>\n",
              "      <td>67.14</td>\n",
              "      <td>66.53</td>\n",
              "      <td>66.48</td>\n",
              "    </tr>\n",
              "    <tr>\n",
              "      <th>5</th>\n",
              "      <td>SimLex</td>\n",
              "      <td>44.27</td>\n",
              "      <td>44.31</td>\n",
              "      <td>44.24</td>\n",
              "    </tr>\n",
              "    <tr>\n",
              "      <th>6</th>\n",
              "      <td>SimVerb</td>\n",
              "      <td>36.54</td>\n",
              "      <td>36.50</td>\n",
              "      <td>36.51</td>\n",
              "    </tr>\n",
              "  </tbody>\n",
              "</table>\n",
              "</div>\n",
              "    <div class=\"colab-df-buttons\">\n",
              "\n",
              "  <div class=\"colab-df-container\">\n",
              "    <button class=\"colab-df-convert\" onclick=\"convertToInteractive('df-78869474-4422-4998-b607-a5ae686df8ef')\"\n",
              "            title=\"Convert this dataframe to an interactive table.\"\n",
              "            style=\"display:none;\">\n",
              "\n",
              "  <svg xmlns=\"http://www.w3.org/2000/svg\" height=\"24px\" viewBox=\"0 -960 960 960\">\n",
              "    <path d=\"M120-120v-720h720v720H120Zm60-500h600v-160H180v160Zm220 220h160v-160H400v160Zm0 220h160v-160H400v160ZM180-400h160v-160H180v160Zm440 0h160v-160H620v160ZM180-180h160v-160H180v160Zm440 0h160v-160H620v160Z\"/>\n",
              "  </svg>\n",
              "    </button>\n",
              "\n",
              "  <style>\n",
              "    .colab-df-container {\n",
              "      display:flex;\n",
              "      gap: 12px;\n",
              "    }\n",
              "\n",
              "    .colab-df-convert {\n",
              "      background-color: #E8F0FE;\n",
              "      border: none;\n",
              "      border-radius: 50%;\n",
              "      cursor: pointer;\n",
              "      display: none;\n",
              "      fill: #1967D2;\n",
              "      height: 32px;\n",
              "      padding: 0 0 0 0;\n",
              "      width: 32px;\n",
              "    }\n",
              "\n",
              "    .colab-df-convert:hover {\n",
              "      background-color: #E2EBFA;\n",
              "      box-shadow: 0px 1px 2px rgba(60, 64, 67, 0.3), 0px 1px 3px 1px rgba(60, 64, 67, 0.15);\n",
              "      fill: #174EA6;\n",
              "    }\n",
              "\n",
              "    .colab-df-buttons div {\n",
              "      margin-bottom: 4px;\n",
              "    }\n",
              "\n",
              "    [theme=dark] .colab-df-convert {\n",
              "      background-color: #3B4455;\n",
              "      fill: #D2E3FC;\n",
              "    }\n",
              "\n",
              "    [theme=dark] .colab-df-convert:hover {\n",
              "      background-color: #434B5C;\n",
              "      box-shadow: 0px 1px 3px 1px rgba(0, 0, 0, 0.15);\n",
              "      filter: drop-shadow(0px 1px 2px rgba(0, 0, 0, 0.3));\n",
              "      fill: #FFFFFF;\n",
              "    }\n",
              "  </style>\n",
              "\n",
              "    <script>\n",
              "      const buttonEl =\n",
              "        document.querySelector('#df-78869474-4422-4998-b607-a5ae686df8ef button.colab-df-convert');\n",
              "      buttonEl.style.display =\n",
              "        google.colab.kernel.accessAllowed ? 'block' : 'none';\n",
              "\n",
              "      async function convertToInteractive(key) {\n",
              "        const element = document.querySelector('#df-78869474-4422-4998-b607-a5ae686df8ef');\n",
              "        const dataTable =\n",
              "          await google.colab.kernel.invokeFunction('convertToInteractive',\n",
              "                                                    [key], {});\n",
              "        if (!dataTable) return;\n",
              "\n",
              "        const docLinkHtml = 'Like what you see? Visit the ' +\n",
              "          '<a target=\"_blank\" href=https://colab.research.google.com/notebooks/data_table.ipynb>data table notebook</a>'\n",
              "          + ' to learn more about interactive tables.';\n",
              "        element.innerHTML = '';\n",
              "        dataTable['output_type'] = 'display_data';\n",
              "        await google.colab.output.renderOutput(dataTable, element);\n",
              "        const docLink = document.createElement('div');\n",
              "        docLink.innerHTML = docLinkHtml;\n",
              "        element.appendChild(docLink);\n",
              "      }\n",
              "    </script>\n",
              "  </div>\n",
              "\n",
              "\n",
              "<div id=\"df-24767005-4fc5-4b1a-86b2-55d5ef78fed9\">\n",
              "  <button class=\"colab-df-quickchart\" onclick=\"quickchart('df-24767005-4fc5-4b1a-86b2-55d5ef78fed9')\"\n",
              "            title=\"Suggest charts\"\n",
              "            style=\"display:none;\">\n",
              "\n",
              "<svg xmlns=\"http://www.w3.org/2000/svg\" height=\"24px\"viewBox=\"0 0 24 24\"\n",
              "     width=\"24px\">\n",
              "    <g>\n",
              "        <path d=\"M19 3H5c-1.1 0-2 .9-2 2v14c0 1.1.9 2 2 2h14c1.1 0 2-.9 2-2V5c0-1.1-.9-2-2-2zM9 17H7v-7h2v7zm4 0h-2V7h2v10zm4 0h-2v-4h2v4z\"/>\n",
              "    </g>\n",
              "</svg>\n",
              "  </button>\n",
              "\n",
              "<style>\n",
              "  .colab-df-quickchart {\n",
              "      --bg-color: #E8F0FE;\n",
              "      --fill-color: #1967D2;\n",
              "      --hover-bg-color: #E2EBFA;\n",
              "      --hover-fill-color: #174EA6;\n",
              "      --disabled-fill-color: #AAA;\n",
              "      --disabled-bg-color: #DDD;\n",
              "  }\n",
              "\n",
              "  [theme=dark] .colab-df-quickchart {\n",
              "      --bg-color: #3B4455;\n",
              "      --fill-color: #D2E3FC;\n",
              "      --hover-bg-color: #434B5C;\n",
              "      --hover-fill-color: #FFFFFF;\n",
              "      --disabled-bg-color: #3B4455;\n",
              "      --disabled-fill-color: #666;\n",
              "  }\n",
              "\n",
              "  .colab-df-quickchart {\n",
              "    background-color: var(--bg-color);\n",
              "    border: none;\n",
              "    border-radius: 50%;\n",
              "    cursor: pointer;\n",
              "    display: none;\n",
              "    fill: var(--fill-color);\n",
              "    height: 32px;\n",
              "    padding: 0;\n",
              "    width: 32px;\n",
              "  }\n",
              "\n",
              "  .colab-df-quickchart:hover {\n",
              "    background-color: var(--hover-bg-color);\n",
              "    box-shadow: 0 1px 2px rgba(60, 64, 67, 0.3), 0 1px 3px 1px rgba(60, 64, 67, 0.15);\n",
              "    fill: var(--button-hover-fill-color);\n",
              "  }\n",
              "\n",
              "  .colab-df-quickchart-complete:disabled,\n",
              "  .colab-df-quickchart-complete:disabled:hover {\n",
              "    background-color: var(--disabled-bg-color);\n",
              "    fill: var(--disabled-fill-color);\n",
              "    box-shadow: none;\n",
              "  }\n",
              "\n",
              "  .colab-df-spinner {\n",
              "    border: 2px solid var(--fill-color);\n",
              "    border-color: transparent;\n",
              "    border-bottom-color: var(--fill-color);\n",
              "    animation:\n",
              "      spin 1s steps(1) infinite;\n",
              "  }\n",
              "\n",
              "  @keyframes spin {\n",
              "    0% {\n",
              "      border-color: transparent;\n",
              "      border-bottom-color: var(--fill-color);\n",
              "      border-left-color: var(--fill-color);\n",
              "    }\n",
              "    20% {\n",
              "      border-color: transparent;\n",
              "      border-left-color: var(--fill-color);\n",
              "      border-top-color: var(--fill-color);\n",
              "    }\n",
              "    30% {\n",
              "      border-color: transparent;\n",
              "      border-left-color: var(--fill-color);\n",
              "      border-top-color: var(--fill-color);\n",
              "      border-right-color: var(--fill-color);\n",
              "    }\n",
              "    40% {\n",
              "      border-color: transparent;\n",
              "      border-right-color: var(--fill-color);\n",
              "      border-top-color: var(--fill-color);\n",
              "    }\n",
              "    60% {\n",
              "      border-color: transparent;\n",
              "      border-right-color: var(--fill-color);\n",
              "    }\n",
              "    80% {\n",
              "      border-color: transparent;\n",
              "      border-right-color: var(--fill-color);\n",
              "      border-bottom-color: var(--fill-color);\n",
              "    }\n",
              "    90% {\n",
              "      border-color: transparent;\n",
              "      border-bottom-color: var(--fill-color);\n",
              "    }\n",
              "  }\n",
              "</style>\n",
              "\n",
              "  <script>\n",
              "    async function quickchart(key) {\n",
              "      const quickchartButtonEl =\n",
              "        document.querySelector('#' + key + ' button');\n",
              "      quickchartButtonEl.disabled = true;  // To prevent multiple clicks.\n",
              "      quickchartButtonEl.classList.add('colab-df-spinner');\n",
              "      try {\n",
              "        const charts = await google.colab.kernel.invokeFunction(\n",
              "            'suggestCharts', [key], {});\n",
              "      } catch (error) {\n",
              "        console.error('Error during call to suggestCharts:', error);\n",
              "      }\n",
              "      quickchartButtonEl.classList.remove('colab-df-spinner');\n",
              "      quickchartButtonEl.classList.add('colab-df-quickchart-complete');\n",
              "    }\n",
              "    (() => {\n",
              "      let quickchartButtonEl =\n",
              "        document.querySelector('#df-24767005-4fc5-4b1a-86b2-55d5ef78fed9 button');\n",
              "      quickchartButtonEl.style.display =\n",
              "        google.colab.kernel.accessAllowed ? 'block' : 'none';\n",
              "    })();\n",
              "  </script>\n",
              "</div>\n",
              "\n",
              "    </div>\n",
              "  </div>\n"
            ],
            "application/vnd.google.colaboratory.intrinsic+json": {
              "type": "dataframe",
              "summary": "{\n  \"name\": \"pd\",\n  \"rows\": 7,\n  \"fields\": [\n    {\n      \"column\": \"Key\",\n      \"properties\": {\n        \"dtype\": \"string\",\n        \"num_unique_values\": 7,\n        \"samples\": [\n          \"WS\",\n          \"RG65\",\n          \"SimLex\"\n        ],\n        \"semantic_type\": \"\",\n        \"description\": \"\"\n      }\n    },\n    {\n      \"column\": \"Original\",\n      \"properties\": {\n        \"dtype\": \"number\",\n        \"std\": 15.62347470650373,\n        \"min\": 36.54,\n        \"max\": 77.07,\n        \"num_unique_values\": 7,\n        \"samples\": [\n          69.33,\n          74.94,\n          44.27\n        ],\n        \"semantic_type\": \"\",\n        \"description\": \"\"\n      }\n    },\n    {\n      \"column\": \"SoftWEAT\",\n      \"properties\": {\n        \"dtype\": \"number\",\n        \"std\": 15.614246547243168,\n        \"min\": 36.5,\n        \"max\": 76.92,\n        \"num_unique_values\": 7,\n        \"samples\": [\n          69.58,\n          75.13,\n          44.31\n        ],\n        \"semantic_type\": \"\",\n        \"description\": \"\"\n      }\n    },\n    {\n      \"column\": \"HardWEAT\",\n      \"properties\": {\n        \"dtype\": \"number\",\n        \"std\": 13.620529672939618,\n        \"min\": 36.51,\n        \"max\": 75.56,\n        \"num_unique_values\": 7,\n        \"samples\": [\n          64.89,\n          63.4,\n          44.24\n        ],\n        \"semantic_type\": \"\",\n        \"description\": \"\"\n      }\n    }\n  ]\n}"
            }
          },
          "metadata": {},
          "execution_count": 15
        }
      ]
    },
    {
      "cell_type": "markdown",
      "source": [
        "###**Display Mikolov Evaluation Results**\n",
        "#####Description: This cell uses pandas to create and display a DataFrame showing the Mikolov analogy task results for the original, SoftWEAT, and HardWEAT embeddings."
      ],
      "metadata": {
        "id": "2QF0JlODv4Rh"
      }
    },
    {
      "cell_type": "code",
      "source": [
        "pd.DataFrame(mikolov_res_for_pd, columns=['Key', 'Original', 'SoftWEAT', 'HardWEAT'])"
      ],
      "metadata": {
        "colab": {
          "base_uri": "https://localhost:8080/",
          "height": 519
        },
        "id": "AV61c9BbwVRX",
        "outputId": "9fedb7ee-5d8f-4750-8819-b2525cf91be9"
      },
      "execution_count": null,
      "outputs": [
        {
          "output_type": "execute_result",
          "data": {
            "text/plain": [
              "                            Key  Original  SoftWEAT  HardWEAT\n",
              "0      capital-common-countries      0.27      0.27      0.25\n",
              "1                 capital-world      0.18      0.15      0.16\n",
              "2                      currency      0.21      0.21      0.21\n",
              "3                 city-in-state      0.15      0.15      0.15\n",
              "4                        family      0.85      0.85      0.31\n",
              "5     gram1-adjective-to-adverb      0.31      0.31      0.31\n",
              "6                gram2-opposite      0.45      0.45      0.44\n",
              "7             gram3-comparative      0.92      0.92      0.92\n",
              "8             gram4-superlative      0.91      0.91      0.91\n",
              "9      gram5-present-participle      0.79      0.79      0.79\n",
              "10  gram6-nationality-adjective      0.22      0.22      0.22\n",
              "11             gram7-past-tense      0.67      0.67      0.67\n",
              "12                 gram8-plural      0.91      0.91      0.87\n",
              "13           gram9-plural-verbs      0.68      0.68      0.68\n",
              "14               Total accuracy      0.57      0.57      0.54"
            ],
            "text/html": [
              "\n",
              "  <div id=\"df-2c0484f3-789e-43b8-8c28-219578a35f22\" class=\"colab-df-container\">\n",
              "    <div>\n",
              "<style scoped>\n",
              "    .dataframe tbody tr th:only-of-type {\n",
              "        vertical-align: middle;\n",
              "    }\n",
              "\n",
              "    .dataframe tbody tr th {\n",
              "        vertical-align: top;\n",
              "    }\n",
              "\n",
              "    .dataframe thead th {\n",
              "        text-align: right;\n",
              "    }\n",
              "</style>\n",
              "<table border=\"1\" class=\"dataframe\">\n",
              "  <thead>\n",
              "    <tr style=\"text-align: right;\">\n",
              "      <th></th>\n",
              "      <th>Key</th>\n",
              "      <th>Original</th>\n",
              "      <th>SoftWEAT</th>\n",
              "      <th>HardWEAT</th>\n",
              "    </tr>\n",
              "  </thead>\n",
              "  <tbody>\n",
              "    <tr>\n",
              "      <th>0</th>\n",
              "      <td>capital-common-countries</td>\n",
              "      <td>0.27</td>\n",
              "      <td>0.27</td>\n",
              "      <td>0.25</td>\n",
              "    </tr>\n",
              "    <tr>\n",
              "      <th>1</th>\n",
              "      <td>capital-world</td>\n",
              "      <td>0.18</td>\n",
              "      <td>0.15</td>\n",
              "      <td>0.16</td>\n",
              "    </tr>\n",
              "    <tr>\n",
              "      <th>2</th>\n",
              "      <td>currency</td>\n",
              "      <td>0.21</td>\n",
              "      <td>0.21</td>\n",
              "      <td>0.21</td>\n",
              "    </tr>\n",
              "    <tr>\n",
              "      <th>3</th>\n",
              "      <td>city-in-state</td>\n",
              "      <td>0.15</td>\n",
              "      <td>0.15</td>\n",
              "      <td>0.15</td>\n",
              "    </tr>\n",
              "    <tr>\n",
              "      <th>4</th>\n",
              "      <td>family</td>\n",
              "      <td>0.85</td>\n",
              "      <td>0.85</td>\n",
              "      <td>0.31</td>\n",
              "    </tr>\n",
              "    <tr>\n",
              "      <th>5</th>\n",
              "      <td>gram1-adjective-to-adverb</td>\n",
              "      <td>0.31</td>\n",
              "      <td>0.31</td>\n",
              "      <td>0.31</td>\n",
              "    </tr>\n",
              "    <tr>\n",
              "      <th>6</th>\n",
              "      <td>gram2-opposite</td>\n",
              "      <td>0.45</td>\n",
              "      <td>0.45</td>\n",
              "      <td>0.44</td>\n",
              "    </tr>\n",
              "    <tr>\n",
              "      <th>7</th>\n",
              "      <td>gram3-comparative</td>\n",
              "      <td>0.92</td>\n",
              "      <td>0.92</td>\n",
              "      <td>0.92</td>\n",
              "    </tr>\n",
              "    <tr>\n",
              "      <th>8</th>\n",
              "      <td>gram4-superlative</td>\n",
              "      <td>0.91</td>\n",
              "      <td>0.91</td>\n",
              "      <td>0.91</td>\n",
              "    </tr>\n",
              "    <tr>\n",
              "      <th>9</th>\n",
              "      <td>gram5-present-participle</td>\n",
              "      <td>0.79</td>\n",
              "      <td>0.79</td>\n",
              "      <td>0.79</td>\n",
              "    </tr>\n",
              "    <tr>\n",
              "      <th>10</th>\n",
              "      <td>gram6-nationality-adjective</td>\n",
              "      <td>0.22</td>\n",
              "      <td>0.22</td>\n",
              "      <td>0.22</td>\n",
              "    </tr>\n",
              "    <tr>\n",
              "      <th>11</th>\n",
              "      <td>gram7-past-tense</td>\n",
              "      <td>0.67</td>\n",
              "      <td>0.67</td>\n",
              "      <td>0.67</td>\n",
              "    </tr>\n",
              "    <tr>\n",
              "      <th>12</th>\n",
              "      <td>gram8-plural</td>\n",
              "      <td>0.91</td>\n",
              "      <td>0.91</td>\n",
              "      <td>0.87</td>\n",
              "    </tr>\n",
              "    <tr>\n",
              "      <th>13</th>\n",
              "      <td>gram9-plural-verbs</td>\n",
              "      <td>0.68</td>\n",
              "      <td>0.68</td>\n",
              "      <td>0.68</td>\n",
              "    </tr>\n",
              "    <tr>\n",
              "      <th>14</th>\n",
              "      <td>Total accuracy</td>\n",
              "      <td>0.57</td>\n",
              "      <td>0.57</td>\n",
              "      <td>0.54</td>\n",
              "    </tr>\n",
              "  </tbody>\n",
              "</table>\n",
              "</div>\n",
              "    <div class=\"colab-df-buttons\">\n",
              "\n",
              "  <div class=\"colab-df-container\">\n",
              "    <button class=\"colab-df-convert\" onclick=\"convertToInteractive('df-2c0484f3-789e-43b8-8c28-219578a35f22')\"\n",
              "            title=\"Convert this dataframe to an interactive table.\"\n",
              "            style=\"display:none;\">\n",
              "\n",
              "  <svg xmlns=\"http://www.w3.org/2000/svg\" height=\"24px\" viewBox=\"0 -960 960 960\">\n",
              "    <path d=\"M120-120v-720h720v720H120Zm60-500h600v-160H180v160Zm220 220h160v-160H400v160Zm0 220h160v-160H400v160ZM180-400h160v-160H180v160Zm440 0h160v-160H620v160ZM180-180h160v-160H180v160Zm440 0h160v-160H620v160Z\"/>\n",
              "  </svg>\n",
              "    </button>\n",
              "\n",
              "  <style>\n",
              "    .colab-df-container {\n",
              "      display:flex;\n",
              "      gap: 12px;\n",
              "    }\n",
              "\n",
              "    .colab-df-convert {\n",
              "      background-color: #E8F0FE;\n",
              "      border: none;\n",
              "      border-radius: 50%;\n",
              "      cursor: pointer;\n",
              "      display: none;\n",
              "      fill: #1967D2;\n",
              "      height: 32px;\n",
              "      padding: 0 0 0 0;\n",
              "      width: 32px;\n",
              "    }\n",
              "\n",
              "    .colab-df-convert:hover {\n",
              "      background-color: #E2EBFA;\n",
              "      box-shadow: 0px 1px 2px rgba(60, 64, 67, 0.3), 0px 1px 3px 1px rgba(60, 64, 67, 0.15);\n",
              "      fill: #174EA6;\n",
              "    }\n",
              "\n",
              "    .colab-df-buttons div {\n",
              "      margin-bottom: 4px;\n",
              "    }\n",
              "\n",
              "    [theme=dark] .colab-df-convert {\n",
              "      background-color: #3B4455;\n",
              "      fill: #D2E3FC;\n",
              "    }\n",
              "\n",
              "    [theme=dark] .colab-df-convert:hover {\n",
              "      background-color: #434B5C;\n",
              "      box-shadow: 0px 1px 3px 1px rgba(0, 0, 0, 0.15);\n",
              "      filter: drop-shadow(0px 1px 2px rgba(0, 0, 0, 0.3));\n",
              "      fill: #FFFFFF;\n",
              "    }\n",
              "  </style>\n",
              "\n",
              "    <script>\n",
              "      const buttonEl =\n",
              "        document.querySelector('#df-2c0484f3-789e-43b8-8c28-219578a35f22 button.colab-df-convert');\n",
              "      buttonEl.style.display =\n",
              "        google.colab.kernel.accessAllowed ? 'block' : 'none';\n",
              "\n",
              "      async function convertToInteractive(key) {\n",
              "        const element = document.querySelector('#df-2c0484f3-789e-43b8-8c28-219578a35f22');\n",
              "        const dataTable =\n",
              "          await google.colab.kernel.invokeFunction('convertToInteractive',\n",
              "                                                    [key], {});\n",
              "        if (!dataTable) return;\n",
              "\n",
              "        const docLinkHtml = 'Like what you see? Visit the ' +\n",
              "          '<a target=\"_blank\" href=https://colab.research.google.com/notebooks/data_table.ipynb>data table notebook</a>'\n",
              "          + ' to learn more about interactive tables.';\n",
              "        element.innerHTML = '';\n",
              "        dataTable['output_type'] = 'display_data';\n",
              "        await google.colab.output.renderOutput(dataTable, element);\n",
              "        const docLink = document.createElement('div');\n",
              "        docLink.innerHTML = docLinkHtml;\n",
              "        element.appendChild(docLink);\n",
              "      }\n",
              "    </script>\n",
              "  </div>\n",
              "\n",
              "\n",
              "<div id=\"df-fce36567-bb38-4085-97ed-5764689bae20\">\n",
              "  <button class=\"colab-df-quickchart\" onclick=\"quickchart('df-fce36567-bb38-4085-97ed-5764689bae20')\"\n",
              "            title=\"Suggest charts\"\n",
              "            style=\"display:none;\">\n",
              "\n",
              "<svg xmlns=\"http://www.w3.org/2000/svg\" height=\"24px\"viewBox=\"0 0 24 24\"\n",
              "     width=\"24px\">\n",
              "    <g>\n",
              "        <path d=\"M19 3H5c-1.1 0-2 .9-2 2v14c0 1.1.9 2 2 2h14c1.1 0 2-.9 2-2V5c0-1.1-.9-2-2-2zM9 17H7v-7h2v7zm4 0h-2V7h2v10zm4 0h-2v-4h2v4z\"/>\n",
              "    </g>\n",
              "</svg>\n",
              "  </button>\n",
              "\n",
              "<style>\n",
              "  .colab-df-quickchart {\n",
              "      --bg-color: #E8F0FE;\n",
              "      --fill-color: #1967D2;\n",
              "      --hover-bg-color: #E2EBFA;\n",
              "      --hover-fill-color: #174EA6;\n",
              "      --disabled-fill-color: #AAA;\n",
              "      --disabled-bg-color: #DDD;\n",
              "  }\n",
              "\n",
              "  [theme=dark] .colab-df-quickchart {\n",
              "      --bg-color: #3B4455;\n",
              "      --fill-color: #D2E3FC;\n",
              "      --hover-bg-color: #434B5C;\n",
              "      --hover-fill-color: #FFFFFF;\n",
              "      --disabled-bg-color: #3B4455;\n",
              "      --disabled-fill-color: #666;\n",
              "  }\n",
              "\n",
              "  .colab-df-quickchart {\n",
              "    background-color: var(--bg-color);\n",
              "    border: none;\n",
              "    border-radius: 50%;\n",
              "    cursor: pointer;\n",
              "    display: none;\n",
              "    fill: var(--fill-color);\n",
              "    height: 32px;\n",
              "    padding: 0;\n",
              "    width: 32px;\n",
              "  }\n",
              "\n",
              "  .colab-df-quickchart:hover {\n",
              "    background-color: var(--hover-bg-color);\n",
              "    box-shadow: 0 1px 2px rgba(60, 64, 67, 0.3), 0 1px 3px 1px rgba(60, 64, 67, 0.15);\n",
              "    fill: var(--button-hover-fill-color);\n",
              "  }\n",
              "\n",
              "  .colab-df-quickchart-complete:disabled,\n",
              "  .colab-df-quickchart-complete:disabled:hover {\n",
              "    background-color: var(--disabled-bg-color);\n",
              "    fill: var(--disabled-fill-color);\n",
              "    box-shadow: none;\n",
              "  }\n",
              "\n",
              "  .colab-df-spinner {\n",
              "    border: 2px solid var(--fill-color);\n",
              "    border-color: transparent;\n",
              "    border-bottom-color: var(--fill-color);\n",
              "    animation:\n",
              "      spin 1s steps(1) infinite;\n",
              "  }\n",
              "\n",
              "  @keyframes spin {\n",
              "    0% {\n",
              "      border-color: transparent;\n",
              "      border-bottom-color: var(--fill-color);\n",
              "      border-left-color: var(--fill-color);\n",
              "    }\n",
              "    20% {\n",
              "      border-color: transparent;\n",
              "      border-left-color: var(--fill-color);\n",
              "      border-top-color: var(--fill-color);\n",
              "    }\n",
              "    30% {\n",
              "      border-color: transparent;\n",
              "      border-left-color: var(--fill-color);\n",
              "      border-top-color: var(--fill-color);\n",
              "      border-right-color: var(--fill-color);\n",
              "    }\n",
              "    40% {\n",
              "      border-color: transparent;\n",
              "      border-right-color: var(--fill-color);\n",
              "      border-top-color: var(--fill-color);\n",
              "    }\n",
              "    60% {\n",
              "      border-color: transparent;\n",
              "      border-right-color: var(--fill-color);\n",
              "    }\n",
              "    80% {\n",
              "      border-color: transparent;\n",
              "      border-right-color: var(--fill-color);\n",
              "      border-bottom-color: var(--fill-color);\n",
              "    }\n",
              "    90% {\n",
              "      border-color: transparent;\n",
              "      border-bottom-color: var(--fill-color);\n",
              "    }\n",
              "  }\n",
              "</style>\n",
              "\n",
              "  <script>\n",
              "    async function quickchart(key) {\n",
              "      const quickchartButtonEl =\n",
              "        document.querySelector('#' + key + ' button');\n",
              "      quickchartButtonEl.disabled = true;  // To prevent multiple clicks.\n",
              "      quickchartButtonEl.classList.add('colab-df-spinner');\n",
              "      try {\n",
              "        const charts = await google.colab.kernel.invokeFunction(\n",
              "            'suggestCharts', [key], {});\n",
              "      } catch (error) {\n",
              "        console.error('Error during call to suggestCharts:', error);\n",
              "      }\n",
              "      quickchartButtonEl.classList.remove('colab-df-spinner');\n",
              "      quickchartButtonEl.classList.add('colab-df-quickchart-complete');\n",
              "    }\n",
              "    (() => {\n",
              "      let quickchartButtonEl =\n",
              "        document.querySelector('#df-fce36567-bb38-4085-97ed-5764689bae20 button');\n",
              "      quickchartButtonEl.style.display =\n",
              "        google.colab.kernel.accessAllowed ? 'block' : 'none';\n",
              "    })();\n",
              "  </script>\n",
              "</div>\n",
              "\n",
              "    </div>\n",
              "  </div>\n"
            ],
            "application/vnd.google.colaboratory.intrinsic+json": {
              "type": "dataframe",
              "summary": "{\n  \"name\": \"pd\",\n  \"rows\": 15,\n  \"fields\": [\n    {\n      \"column\": \"Key\",\n      \"properties\": {\n        \"dtype\": \"string\",\n        \"num_unique_values\": 15,\n        \"samples\": [\n          \"gram5-present-participle\",\n          \"gram7-past-tense\",\n          \"capital-common-countries\"\n        ],\n        \"semantic_type\": \"\",\n        \"description\": \"\"\n      }\n    },\n    {\n      \"column\": \"Original\",\n      \"properties\": {\n        \"dtype\": \"number\",\n        \"std\": 0.2977406989471272,\n        \"min\": 0.15,\n        \"max\": 0.92,\n        \"num_unique_values\": 14,\n        \"samples\": [\n          0.79,\n          0.67,\n          0.27\n        ],\n        \"semantic_type\": \"\",\n        \"description\": \"\"\n      }\n    },\n    {\n      \"column\": \"SoftWEAT\",\n      \"properties\": {\n        \"dtype\": \"number\",\n        \"std\": 0.30041558516415856,\n        \"min\": 0.15,\n        \"max\": 0.92,\n        \"num_unique_values\": 13,\n        \"samples\": [\n          0.68,\n          0.22,\n          0.27\n        ],\n        \"semantic_type\": \"\",\n        \"description\": \"\"\n      }\n    },\n    {\n      \"column\": \"HardWEAT\",\n      \"properties\": {\n        \"dtype\": \"number\",\n        \"std\": 0.2887130722624767,\n        \"min\": 0.15,\n        \"max\": 0.92,\n        \"num_unique_values\": 14,\n        \"samples\": [\n          0.22,\n          0.87,\n          0.25\n        ],\n        \"semantic_type\": \"\",\n        \"description\": \"\"\n      }\n    }\n  ]\n}"
            }
          },
          "metadata": {},
          "execution_count": 16
        }
      ]
    },
    {
      "cell_type": "markdown",
      "source": [
        "###**Sentiment Analysis Task Evaluation**\n",
        "#####Description: This cell performs sentiment analysis on a specific target pair (e.g., Islam vs. Christianity) using the original and debiased embeddings, comparing their F1 scores across multiple models."
      ],
      "metadata": {
        "id": "f_C12GJcwZAw"
      }
    },
    {
      "cell_type": "code",
      "source": [
        "dictionary_categories, parameters_dict, target_sets_dict = get_sent_analysis_sets()\n",
        "target_pairs = ['islam_christianity', 'male_female', 'black_white']\n",
        "target_pair = target_pairs[0]  # Using 'islam_christianity'\n",
        "datasets_and_dicts = get_dataset_and_dicts(target_sets_dict[target_pair][emb_name], parameters_dict)\n",
        "results = compare_embeddings(datasets_and_dicts, embeddings_dict, parameters_dict)"
      ],
      "metadata": {
        "colab": {
          "base_uri": "https://localhost:8080/"
        },
        "id": "z2Of-ADIwiRa",
        "outputId": "7479cd93-3561-4fbe-abe0-b9f4f27d8a98"
      },
      "execution_count": null,
      "outputs": [
        {
          "output_type": "stream",
          "name": "stdout",
          "text": [
            "Training shape: (834, 50)\n",
            "Test shape: (277, 50)\n",
            "Shape of modified test input: (100, 50)\n",
            "Shape of modified test input: (100, 50)\n"
          ]
        },
        {
          "output_type": "stream",
          "name": "stderr",
          "text": [
            "/content/Utils/methods.py:218: VisibleDeprecationWarning: Creating an ndarray from ragged nested sequences (which is a list-or-tuple of lists-or-tuples-or ndarrays with different lengths or shapes) is deprecated. If you meant to do this, you must specify 'dtype=object' when creating the ndarray.\n",
            "  datasets = {'x_train': np.array(x_train_copy), 'x_test': np.array(x_test_copy),\n"
          ]
        },
        {
          "output_type": "stream",
          "name": "stdout",
          "text": [
            "9/9 [==============================] - 0s 3ms/step\n",
            "4/4 [==============================] - 0s 3ms/step\n",
            "4/4 [==============================] - 0s 3ms/step\n",
            "F1 score for original embedding, 1.model: 0.53\n",
            "9/9 [==============================] - 0s 2ms/step\n",
            "4/4 [==============================] - 0s 3ms/step\n",
            "4/4 [==============================] - 0s 4ms/step\n",
            "F1 score for original embedding, 2.model: 0.45\n",
            "9/9 [==============================] - 0s 2ms/step\n",
            "4/4 [==============================] - 0s 6ms/step\n",
            "4/4 [==============================] - 0s 3ms/step\n",
            "F1 score for original embedding, 3.model: 0.55\n",
            "9/9 [==============================] - 0s 2ms/step\n",
            "4/4 [==============================] - 0s 3ms/step\n",
            "4/4 [==============================] - 0s 3ms/step\n",
            "F1 score for original embedding, 4.model: 0.53\n",
            "9/9 [==============================] - 0s 2ms/step\n",
            "4/4 [==============================] - 0s 3ms/step\n",
            "4/4 [==============================] - 0s 3ms/step\n",
            "F1 score for original embedding, 5.model: 0.5\n",
            "9/9 [==============================] - 0s 3ms/step\n",
            "4/4 [==============================] - 0s 3ms/step\n",
            "4/4 [==============================] - 0s 3ms/step\n",
            "F1 score for original embedding, 6.model: 0.51\n",
            "________________________________________________________________\n",
            "9/9 [==============================] - 0s 3ms/step\n",
            "4/4 [==============================] - 0s 3ms/step\n",
            "4/4 [==============================] - 0s 3ms/step\n",
            "F1 score for hardweat embedding, 1.model: 0.54\n",
            "9/9 [==============================] - 0s 2ms/step\n",
            "4/4 [==============================] - 0s 3ms/step\n",
            "4/4 [==============================] - 0s 3ms/step\n",
            "F1 score for hardweat embedding, 2.model: 0.56\n",
            "9/9 [==============================] - 0s 5ms/step\n",
            "4/4 [==============================] - 0s 4ms/step\n",
            "4/4 [==============================] - 0s 3ms/step\n",
            "F1 score for hardweat embedding, 3.model: 0.47\n",
            "9/9 [==============================] - 0s 2ms/step\n",
            "4/4 [==============================] - 0s 3ms/step\n",
            "4/4 [==============================] - 0s 3ms/step\n",
            "F1 score for hardweat embedding, 4.model: 0.62\n",
            "9/9 [==============================] - 0s 3ms/step\n",
            "4/4 [==============================] - 0s 3ms/step\n",
            "4/4 [==============================] - 0s 3ms/step\n",
            "F1 score for hardweat embedding, 5.model: 0.56\n",
            "9/9 [==============================] - 0s 8ms/step\n",
            "4/4 [==============================] - 0s 5ms/step\n",
            "4/4 [==============================] - 0s 4ms/step\n",
            "F1 score for hardweat embedding, 6.model: 0.53\n",
            "________________________________________________________________\n",
            "9/9 [==============================] - 0s 5ms/step\n",
            "4/4 [==============================] - 0s 4ms/step\n",
            "4/4 [==============================] - 0s 4ms/step\n",
            "F1 score for softweat embedding, 1.model: 0.37\n",
            "9/9 [==============================] - 0s 2ms/step\n",
            "4/4 [==============================] - 0s 3ms/step\n",
            "4/4 [==============================] - 0s 3ms/step\n",
            "F1 score for softweat embedding, 2.model: 0.64\n",
            "9/9 [==============================] - 0s 4ms/step\n",
            "4/4 [==============================] - 0s 3ms/step\n",
            "4/4 [==============================] - 0s 5ms/step\n",
            "F1 score for softweat embedding, 3.model: 0.44\n",
            "9/9 [==============================] - 0s 3ms/step\n",
            "4/4 [==============================] - 0s 3ms/step\n",
            "4/4 [==============================] - 0s 4ms/step\n",
            "F1 score for softweat embedding, 4.model: 0.64\n",
            "9/9 [==============================] - 0s 6ms/step\n",
            "4/4 [==============================] - 0s 4ms/step\n",
            "4/4 [==============================] - 0s 4ms/step\n",
            "F1 score for softweat embedding, 5.model: 0.56\n",
            "9/9 [==============================] - 0s 5ms/step\n",
            "4/4 [==============================] - 0s 4ms/step\n",
            "4/4 [==============================] - 0s 4ms/step\n",
            "F1 score for softweat embedding, 6.model: 0.64\n",
            "________________________________________________________________\n"
          ]
        }
      ]
    },
    {
      "cell_type": "markdown",
      "source": [
        "###**Display Sentiment Analysis Results**\n",
        "#####Description: This cell extracts sentiment analysis polarity scores and creates a violin plot to visualize the distribution of sentiment across the original, SoftWEAT, and HardWEAT embeddings."
      ],
      "metadata": {
        "id": "D072Ow08w3Hl"
      }
    },
    {
      "cell_type": "code",
      "source": [
        "import numpy as np\n",
        "\n",
        "original_pol = [r for res in results['original'] for r in res[0]]\n",
        "softweat_pol = [r for res in results['softweat'] for r in res[0]]\n",
        "hardweat_pol = [r for res in results['hardweat'] for r in res[0]]\n",
        "constant = 0.025\n",
        "all_values = np.array([original_pol, softweat_pol, hardweat_pol]).flatten()\n",
        "min_value, max_value = min(all_values) - constant, max(all_values) + constant\n",
        "\n",
        "plt.figure(figsize=(8, 6))\n",
        "set_names = target_pair.split('_')\n",
        "ax = sns.violinplot(data=[original_pol, softweat_pol, hardweat_pol], palette=['black', '#ffa500', 'forestgreen'])\n",
        "ax_range = np.linspace(min_value, max_value, 11)\n",
        "ax.set_xticklabels(['Original', 'SoftWEAT', 'HardWEAT'])\n",
        "ax.set_ylim([min(ax_range), max(ax_range)])\n",
        "ax.set_yticks(ax_range)\n",
        "_ = ax.set_yticklabels([set_names[1]] + list(np.round(np.linspace(min_value, max_value, 9), 3)) + [set_names[0]])\n",
        "plt.show()"
      ],
      "metadata": {
        "colab": {
          "base_uri": "https://localhost:8080/",
          "height": 528
        },
        "id": "oCm696GXw8gB",
        "outputId": "284e24d2-489b-4a0b-cd65-bca443556781"
      },
      "execution_count": null,
      "outputs": [
        {
          "output_type": "display_data",
          "data": {
            "text/plain": [
              "<Figure size 800x600 with 1 Axes>"
            ],
            "image/png": "[encoded data removed]"
          },
          "metadata": {}
        }
      ]
    }
  ]
}